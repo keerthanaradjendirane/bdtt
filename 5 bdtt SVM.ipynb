{
 "cells": [
  {
   "cell_type": "markdown",
   "id": "9380f243",
   "metadata": {},
   "source": [
    "#"
   ]
  },
  {
   "cell_type": "markdown",
   "id": "9dd6f205",
   "metadata": {},
   "source": [
    "SVM"
   ]
  },
  {
   "cell_type": "code",
   "execution_count": 2,
   "id": "55daad44-2ff9-48bd-8f15-46279136021c",
   "metadata": {},
   "outputs": [
    {
     "name": "stdout",
     "output_type": "stream",
     "text": [
      "SVM Model Accuracy: 0.8636363636363636\n",
      "+--------------------+-----+----------+\n",
      "|            features|Churn|prediction|\n",
      "+--------------------+-----+----------+\n",
      "|[30.4925366965402...|    1|       1.0|\n",
      "|[30.8162006488763...|    1|       1.0|\n",
      "|[30.9716756438877...|    1|       0.0|\n",
      "|[31.1695067987115...|    1|       1.0|\n",
      "|[31.2834474760581...|    0|       0.0|\n",
      "+--------------------+-----+----------+\n",
      "only showing top 5 rows\n",
      "\n"
     ]
    }
   ],
   "source": [
    "from pyspark.sql import SparkSession\n",
    "from pyspark.ml.classification import LinearSVC\n",
    "from pyspark.ml.feature import VectorAssembler\n",
    "from pyspark.ml.evaluation import MulticlassClassificationEvaluator\n",
    "from pyspark.sql.functions import when\n",
    "\n",
    "import os\n",
    "os.environ['PYSPARK_PYTHON'] = r'C:\\Users\\asus\\anaconda3\\python.exe'\n",
    "os.environ['JAVA_HOME'] = r'C:\\Program Files\\Java\\jdk1.8.0_321'  # Update this to your Java installation path\n",
    "os.environ['SPARK_HOME'] = r'C:\\Users\\asus\\Documents\\BDT\\BigData\\BigData\\spark-3.1.2-bin-hadoop3.2' \n",
    "\n",
    "# Create a Spark session\n",
    "spark = SparkSession.builder.appName(\"SVM Classifier\").getOrCreate()\n",
    "\n",
    "# Load the dataset\n",
    "data = spark.read.csv(r\"C:\\Users\\asus\\Downloads\\Ecommerce_Customers.csv\", header=True, inferSchema=True)\n",
    "\n",
    "# Create a binary label column ('Churn') based on 'Yearly Amount Spent'\n",
    "data = data.withColumn(\"Churn\", when(data[\"Yearly Amount Spent\"] < 500, 1).otherwise(0))\n",
    "\n",
    "# Assemble features\n",
    "assembler = VectorAssembler(\n",
    "    inputCols=['Avg Session Length', 'Time on App', 'Time on Website', 'Length of Membership'],\n",
    "    outputCol='features'\n",
    ")\n",
    "\n",
    "# Prepare the features and label (target column for classification)\n",
    "final_data = assembler.transform(data).select('features', 'Churn')\n",
    "\n",
    "# Split the data into training and test sets\n",
    "train_data, test_data = final_data.randomSplit([0.7, 0.3])\n",
    "\n",
    "# Initialize Linear SVM model\n",
    "svm = LinearSVC(labelCol='Churn', featuresCol='features')\n",
    "\n",
    "# Fit the model\n",
    "svm_model = svm.fit(train_data)\n",
    "\n",
    "# Make predictions\n",
    "pred_data = svm_model.transform(test_data)\n",
    "\n",
    "# Evaluate the accuracy\n",
    "evaluator = MulticlassClassificationEvaluator(labelCol='Churn', predictionCol='prediction', metricName='accuracy')\n",
    "accuracy = evaluator.evaluate(pred_data)\n",
    "print(\"SVM Model Accuracy:\", accuracy)\n",
    "\n",
    "# To see predictions\n",
    "pred_data.select(\"features\", \"Churn\", \"prediction\").show(5)\n",
    "\n",
    "# Stop Spark session\n",
    "spark.stop()\n"
   ]
  },
  {
   "cell_type": "markdown",
   "id": "a8dadaf3",
   "metadata": {},
   "source": []
  },
  {
   "cell_type": "markdown",
   "id": "56762474-20ef-4bf0-9b0e-ec40acfce6e1",
   "metadata": {},
   "source": [
    "# Decision Tree Classifier\n"
   ]
  },
  {
   "cell_type": "code",
   "execution_count": 3,
   "id": "4984af92-c7d2-475c-89a9-c5621db486f1",
   "metadata": {},
   "outputs": [
    {
     "name": "stdout",
     "output_type": "stream",
     "text": [
      "Decision Tree Model Accuracy: 0.8482758620689655\n",
      "+--------------------+-----+----------+\n",
      "|            features|Churn|prediction|\n",
      "+--------------------+-----+----------+\n",
      "|[30.3931845423455...|    1|       1.0|\n",
      "|[30.4925366965402...|    1|       1.0|\n",
      "|[30.7377203726281...|    1|       1.0|\n",
      "|[30.8364326747734...|    1|       1.0|\n",
      "|[30.8794843441274...|    1|       0.0|\n",
      "+--------------------+-----+----------+\n",
      "only showing top 5 rows\n",
      "\n"
     ]
    }
   ],
   "source": [
    "from pyspark.sql import SparkSession\n",
    "from pyspark.ml.classification import DecisionTreeClassifier\n",
    "from pyspark.ml.feature import VectorAssembler\n",
    "from pyspark.ml.evaluation import MulticlassClassificationEvaluator\n",
    "from pyspark.sql.functions import when\n",
    "\n",
    "# Create a Spark session\n",
    "spark = SparkSession.builder.appName(\"Decision Tree Classifier\").getOrCreate()\n",
    "\n",
    "# Load the dataset\n",
    "data = spark.read.csv(r\"C:\\Users\\asus\\Downloads\\Ecommerce_Customers.csv\", header=True, inferSchema=True)\n",
    "\n",
    "# Create a binary label column ('Churn') based on 'Yearly Amount Spent'\n",
    "data = data.withColumn(\"Churn\", when(data[\"Yearly Amount Spent\"] < 500, 1).otherwise(0))\n",
    "\n",
    "# Assemble features\n",
    "assembler = VectorAssembler(\n",
    "    inputCols=['Avg Session Length', 'Time on App', 'Time on Website', 'Length of Membership'],\n",
    "    outputCol='features'\n",
    ")\n",
    "\n",
    "# Prepare the features and label (target column for classification)\n",
    "final_data = assembler.transform(data).select('features', 'Churn')\n",
    "\n",
    "# Split the data into training and test sets\n",
    "train_data, test_data = final_data.randomSplit([0.7, 0.3])\n",
    "\n",
    "# Initialize Decision Tree Classifier model\n",
    "dt = DecisionTreeClassifier(labelCol='Churn', featuresCol='features')\n",
    "\n",
    "# Fit the model\n",
    "dt_model = dt.fit(train_data)\n",
    "\n",
    "# Make predictions\n",
    "pred_data = dt_model.transform(test_data)\n",
    "\n",
    "# Evaluate the accuracy\n",
    "evaluator = MulticlassClassificationEvaluator(labelCol='Churn', predictionCol='prediction', metricName='accuracy')\n",
    "accuracy = evaluator.evaluate(pred_data)\n",
    "print(\"Decision Tree Model Accuracy:\", accuracy)\n",
    "\n",
    "# To see predictions\n",
    "pred_data.select(\"features\", \"Churn\", \"prediction\").show(5)\n",
    "\n",
    "# Stop Spark session\n",
    "spark.stop()\n"
   ]
  },
  {
   "cell_type": "code",
   "execution_count": null,
   "id": "f80133e5-48bd-4265-b77c-f1c3bf1e3df2",
   "metadata": {},
   "outputs": [],
   "source": []
  }
 ],
 "metadata": {
  "kernelspec": {
   "display_name": "Python 3 (ipykernel)",
   "language": "python",
   "name": "python3"
  },
  "language_info": {
   "codemirror_mode": {
    "name": "ipython",
    "version": 3
   },
   "file_extension": ".py",
   "mimetype": "text/x-python",
   "name": "python",
   "nbconvert_exporter": "python",
   "pygments_lexer": "ipython3",
   "version": "3.11.7"
  }
 },
 "nbformat": 4,
 "nbformat_minor": 5
}
