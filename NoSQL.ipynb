{
 "cells": [
  {
   "cell_type": "code",
   "execution_count": 14,
   "id": "acef8561",
   "metadata": {},
   "outputs": [],
   "source": [
    "from pyspark.sql import SparkSession \n",
    "from pyspark.sql.types import StructField, StringType, FloatType, DoubleType, DateType, StructType\n",
    "\n",
    "import os\n",
    "os.environ['PYSPARK_PYTHON'] = r'D:\\anaconda\\python.exe'\n",
    "os.environ['JAVA_HOME'] = r'C:\\BigData\\Java\\jdk1.8.0_321'  # Update this to your Java installation path\n",
    "os.environ['SPARK_HOME'] = r'C:\\BigData\\spark-3.1.2-bin-hadoop3.2'\n",
    "\n",
    "#create session in order to be capable of accessing all Spark API \n",
    "spark = SparkSession.builder.appName(\"Introdution to Spark DataFrame\").config(\"spark.some.config.option\", \"some-value\").getOrCreate()"
   ]
  },
  {
   "cell_type": "code",
   "execution_count": 32,
   "id": "dc237f05",
   "metadata": {},
   "outputs": [
    {
     "name": "stdout",
     "output_type": "stream",
     "text": [
      "+--------------------+--------------------+---------+------------------+------------------+------------------+--------------------+-------------------+\n",
      "|               Email|             Address|   Avatar|Avg Session Length|       Time on App|   Time on Website|Length of Membership|Yearly Amount Spent|\n",
      "+--------------------+--------------------+---------+------------------+------------------+------------------+--------------------+-------------------+\n",
      "|mstephenson@ferna...|835 Frank TunnelW...|   Violet| 34.49726772511229| 12.65565114916675| 39.57766801952616|  4.0826206329529615|  587.9510539684005|\n",
      "|   hduke@hotmail.com|4547 Archer Commo...|DarkGreen| 31.92627202636016|11.109460728682564|37.268958868297744|    2.66403418213262|  392.2049334443264|\n",
      "|    pallen@yahoo.com|24645 Valerie Uni...|   Bisque|33.000914755642675|11.330278057777512|37.110597442120856|   4.104543202376424| 487.54750486747207|\n",
      "+--------------------+--------------------+---------+------------------+------------------+------------------+--------------------+-------------------+\n",
      "only showing top 3 rows\n",
      "\n"
     ]
    }
   ],
   "source": [
    "purchaseSchema = StructType([\n",
    "  StructField(\"Email\", StringType(), True), \n",
    "    StructField(\"Address\", StringType(), True), \n",
    "    StructField(\"Avatar\", StringType(), True),\n",
    "    StructField(\"Avg Session Length\", DoubleType(), True),\n",
    "    StructField(\"Time on App\", DoubleType(), True),\n",
    "    StructField(\"Time on Website\", DoubleType(), True), \n",
    "    StructField(\"Length of Membership\", DoubleType(), True), \n",
    "    StructField(\"Yearly Amount Spent\", DoubleType(), True)\n",
    "])\n",
    "# read csv file with our defined schema into Spark DataFrame, and use \"tab\" delimiter \n",
    "purchaseDataframe = spark.read.csv(r\"Ecommerce_Customers.csv\",header=True, schema=purchaseSchema) \n",
    "#show 3 rows of our DataFrame \n",
    "purchaseDataframe.show(3)"
   ]
  },
  {
   "cell_type": "code",
   "execution_count": 33,
   "id": "dd6e4589",
   "metadata": {},
   "outputs": [
    {
     "data": {
      "text/plain": [
       "['Email',\n",
       " 'Address',\n",
       " 'Avatar',\n",
       " 'Avg Session Length',\n",
       " 'Time on App',\n",
       " 'Time on Website',\n",
       " 'Length of Membership',\n",
       " 'Yearly Amount Spent']"
      ]
     },
     "execution_count": 33,
     "metadata": {},
     "output_type": "execute_result"
    }
   ],
   "source": [
    "purchaseDataframe.columns"
   ]
  },
  {
   "cell_type": "code",
   "execution_count": 34,
   "id": "ddfdf7cf",
   "metadata": {},
   "outputs": [
    {
     "name": "stdout",
     "output_type": "stream",
     "text": [
      "root\n",
      " |-- Email: string (nullable = true)\n",
      " |-- Address: string (nullable = true)\n",
      " |-- Avatar: string (nullable = true)\n",
      " |-- Avg Session Length: double (nullable = true)\n",
      " |-- Time on App: double (nullable = true)\n",
      " |-- Time on Website: double (nullable = true)\n",
      " |-- Length of Membership: double (nullable = true)\n",
      " |-- Yearly Amount Spent: double (nullable = true)\n",
      "\n"
     ]
    }
   ],
   "source": [
    "purchaseDataframe.printSchema()\n"
   ]
  },
  {
   "cell_type": "code",
   "execution_count": 35,
   "id": "07d4a309",
   "metadata": {},
   "outputs": [
    {
     "name": "stdout",
     "output_type": "stream",
     "text": [
      "number of rows:  500\n",
      "root\n",
      " |-- Email: string (nullable = true)\n",
      " |-- Address: string (nullable = true)\n",
      " |-- Avatar: string (nullable = true)\n",
      " |-- Avg Session Length: double (nullable = true)\n",
      " |-- Time on App: double (nullable = true)\n",
      " |-- Time on Website: double (nullable = true)\n",
      " |-- Length of Membership: double (nullable = true)\n",
      " |-- Yearly Amount Spent: double (nullable = true)\n",
      "\n",
      "+-------+-------------------+\n",
      "|summary|Yearly Amount Spent|\n",
      "+-------+-------------------+\n",
      "|  count|                500|\n",
      "|   mean|  499.3140382585909|\n",
      "| stddev|   79.3147815497068|\n",
      "|    min| 256.67058229005585|\n",
      "|    max|  765.5184619388373|\n",
      "+-------+-------------------+\n",
      "\n"
     ]
    }
   ],
   "source": [
    "num_rows = purchaseDataframe.count() \n",
    "print(\"number of rows: \", num_rows) \n",
    "#show our dataFrame schema \n",
    "purchaseDataframe.printSchema() \n",
    "#show statistic of the data we want\n",
    "purchaseDataframe.describe('Yearly Amount Spent').show()"
   ]
  },
  {
   "cell_type": "code",
   "execution_count": 36,
   "id": "6ab7861b",
   "metadata": {},
   "outputs": [
    {
     "name": "stdout",
     "output_type": "stream",
     "text": [
      "+--------------------+-------------------+\n",
      "|Length of Membership|Yearly Amount Spent|\n",
      "+--------------------+-------------------+\n",
      "|  4.0826206329529615|  587.9510539684005|\n",
      "|    2.66403418213262|  392.2049334443264|\n",
      "|   4.104543202376424| 487.54750486747207|\n",
      "+--------------------+-------------------+\n",
      "only showing top 3 rows\n",
      "\n"
     ]
    }
   ],
   "source": [
    "purchaseDataframe.createOrReplaceTempView(\"purchaseSql\") \n",
    "#select \"Total\" dan \"Payment\" column from our sql temporary  view\n",
    "anotherNewDataframe = spark.sql(\"SELECT `Length of Membership`, `Yearly Amount Spent` FROM purchaseSql\")\n",
    "anotherNewDataframe.show(3)"
   ]
  },
  {
   "cell_type": "code",
   "execution_count": 37,
   "id": "c5ffdd9d",
   "metadata": {},
   "outputs": [
    {
     "name": "stdout",
     "output_type": "stream",
     "text": [
      "+--------------------+--------------------+------------+------------------+------------------+------------------+--------------------+-------------------+\n",
      "|               Email|             Address|      Avatar|Avg Session Length|       Time on App|   Time on Website|Length of Membership|Yearly Amount Spent|\n",
      "+--------------------+--------------------+------------+------------------+------------------+------------------+--------------------+-------------------+\n",
      "|   flevine@gmail.com|5292 Melanie Cres...|   AliceBlue|32.204654645678524|12.480701517118197|37.680287608367976|  3.2794662600656097|  478.5842860083426|\n",
      "|wagnerbrian@hotma...|50593 Wells Roads...|   AliceBlue| 32.55949313011333| 11.79779551488024|37.777365796776465|  3.1956257763719886| 468.66846559912733|\n",
      "|   sfarley@jones.com|0554 Powers Curve...|AntiqueWhite| 32.39742194430904|12.055340161330117| 37.68546548721554|   3.506967573635258| 483.79652206149285|\n",
      "|freemantina@canno...|870 Dennis Throug...|AntiqueWhite|32.903454333014224|10.542645423983108|35.533863500263074|   3.091826869545788|   412.012931298847|\n",
      "|   lmalone@gmail.com|USS BeasleyFPO AP...|AntiqueWhite|32.975192902963855|13.394451788942055| 37.80697766984659|  3.5690465158585187|  541.9722037582585|\n",
      "+--------------------+--------------------+------------+------------------+------------------+------------------+--------------------+-------------------+\n",
      "only showing top 5 rows\n",
      "\n"
     ]
    }
   ],
   "source": [
    "orderByAvatar = spark.sql(\"SELECT * FROM purchaseSql ORDER BY Avatar\")\n",
    "orderByAvatar.show(5)"
   ]
  },
  {
   "cell_type": "code",
   "execution_count": 38,
   "id": "8678a93e",
   "metadata": {},
   "outputs": [
    {
     "name": "stdout",
     "output_type": "stream",
     "text": [
      "+--------------------+--------------------+------------+------------------+------------------+------------------+--------------------+-------------------+\n",
      "|               Email|             Address|      Avatar|Avg Session Length|       Time on App|   Time on Website|Length of Membership|Yearly Amount Spent|\n",
      "+--------------------+--------------------+------------+------------------+------------------+------------------+--------------------+-------------------+\n",
      "|sharongraves@yaho...|73098 Ronald Port...|       Wheat|32.904853667353976|12.556107616938169|37.805509432449185|  0.2699010899842742|  314.4385182951061|\n",
      "|alexandra26@summe...|Unit 7032 Box 701...|        Navy| 32.83694076702139| 10.25654903128796|36.143908456341634|  0.7895199078816915| 256.67058229005585|\n",
      "|fischermonica@gma...|9847 Michael Plaz...|        Navy|32.529768731474434|11.747731701242175| 36.93988205032054|  0.8015157200042076| 298.76200786180766|\n",
      "|jordandavid@gmail...|61502 Parker Vist...|      Violet| 33.66661568345138|  10.9857637851215| 36.35250276938114|  0.9364975973183264|  304.1355915788555|\n",
      "|stevenking@patter...|94730 Martin Moun...|   LightGray| 33.50370517913956|12.399436075147092| 35.01280603355904|  0.9686221157417688|  357.5914394150861|\n",
      "|brandon77@richard...|109 Jessica Manor...|  GhostWhite| 30.81620064887634|11.851398743073142|36.925043038878634|  1.0845853030221226|   266.086340948469|\n",
      "|    tsmith@yahoo.com|92028 Thomas Moun...|      Bisque|  33.9717220376126|12.284467067067206| 38.29572526401705|  1.1304769604319769|  385.0950070687634|\n",
      "|  drew29@hotmail.com|20888 Erin ViaGra...|      Tomato| 32.07894757956938|12.725909323593955| 36.54466409871873|  1.1390935384245742| 357.86371863839173|\n",
      "|wheelernancy@hern...|66340 Michael Lan...|        Gold|32.495418773654315| 12.96832561098067|38.296110372778266|  1.2004838567566694|  368.6547849470645|\n",
      "|michelleshepherd@...|6820 Erica Vista ...|      Orchid|32.904692444916265|11.913745152838759| 36.05864760322049|  1.2281124234144234| 357.85798360521926|\n",
      "| larrywest@davis.com|21918 Gail GlensB...|MidnightBlue|33.710653059122684|13.664747875183544| 37.72438615760942|  1.3626740800013843| 439.07476674164496|\n",
      "|   brian51@cook.info|0508 Terrance Cli...| SaddleBrown| 31.51712180250623|10.745188554182882| 38.79123468689964|  1.4288238768282668|  275.9184206503857|\n",
      "| kaitlyn78@chang.com|978 Bean SquareDe...|   LimeGreen| 32.11511906601424|11.919242397939177| 39.29404346247573|  1.4435150746515455| 350.05820016384513|\n",
      "|morganorozco@hotm...|0001 Mack MillNor...|   LightPink|  30.4925366965402|11.562936246652605| 35.97656497174036|  1.4816166268553612|  282.4712457199145|\n",
      "|matthewgraves@mil...|66636 Jason Parkw...|DarkSeaGreen|33.908565031728365|12.914846634589114| 39.06886445133981|  1.4823596439649784| 432.47206125141577|\n",
      "|christopher66@hot...|388 Kelly PikeWes...|   BurlyWood|31.625360134830608|13.187910985159366| 37.06708996741924|  1.4943108951995074|  376.3369007569242|\n",
      "|longwilliam@gmail...|16068 Kelly Parks...|   BurlyWood| 32.73322416398153|11.818571762284998|37.102031326859105|   1.503854421225295| 352.55010816300035|\n",
      "|alejandro75@hotma...|64475 Andre Club ...|        Cyan|32.187812045932155|  14.7153875441565| 38.24411459434352|   1.516575580831944|  452.3156754800354|\n",
      "|   agolden@yahoo.com|PSC 2490, Box 212...|       Black|33.503087256719716| 12.87798369625634| 37.44102133556604|   1.559151939957077| 419.93877483917913|\n",
      "| deborah51@yahoo.com|4190 Shelton Harb...|      Violet| 33.73264839262621|12.138793877121687|36.853882459920776|    1.62341960945622| 399.98387159812256|\n",
      "+--------------------+--------------------+------------+------------------+------------------+------------------+--------------------+-------------------+\n",
      "only showing top 20 rows\n",
      "\n"
     ]
    }
   ],
   "source": [
    "filterAndSortWithSQL = spark.sql(\"SELECT * FROM purchaseSql WHERE `Yearly Amount Spent`>200 ORDER BY `Length of Membership`\")\n",
    "filterAndSortWithSQL.show()"
   ]
  },
  {
   "cell_type": "code",
   "execution_count": null,
   "id": "1a205c6f",
   "metadata": {},
   "outputs": [],
   "source": []
  }
 ],
 "metadata": {
  "kernelspec": {
   "display_name": "Python 3 (ipykernel)",
   "language": "python",
   "name": "python3"
  },
  "language_info": {
   "codemirror_mode": {
    "name": "ipython",
    "version": 3
   },
   "file_extension": ".py",
   "mimetype": "text/x-python",
   "name": "python",
   "nbconvert_exporter": "python",
   "pygments_lexer": "ipython3",
   "version": "3.10.9"
  }
 },
 "nbformat": 4,
 "nbformat_minor": 5
}
