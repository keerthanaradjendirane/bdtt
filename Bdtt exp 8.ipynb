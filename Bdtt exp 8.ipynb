{
 "cells": [
  {
   "cell_type": "markdown",
   "metadata": {},
   "source": [
    "# Random Forest"
   ]
  },
  {
   "cell_type": "code",
   "execution_count": 1,
   "metadata": {},
   "outputs": [
    {
     "name": "stdout",
     "output_type": "stream",
     "text": [
      "Random Forest Model Accuracy: 0.9197080291970803\n",
      "+--------------------+-----+----------+\n",
      "|            features|Churn|prediction|\n",
      "+--------------------+-----+----------+\n",
      "|[30.8364326747734...|    1|       1.0|\n",
      "|[30.9716756438877...|    1|       0.0|\n",
      "|[31.0472221394875...|    1|       1.0|\n",
      "|[31.0662181616375...|    1|       1.0|\n",
      "|[31.3123495994443...|    1|       1.0|\n",
      "+--------------------+-----+----------+\n",
      "only showing top 5 rows\n",
      "\n"
     ]
    }
   ],
   "source": [
    "from pyspark.sql import SparkSession\n",
    "from pyspark.ml.classification import RandomForestClassifier  # Import RandomForestClassifier\n",
    "from pyspark.ml.feature import VectorAssembler\n",
    "from pyspark.ml.evaluation import MulticlassClassificationEvaluator\n",
    "from pyspark.sql.functions import when\n",
    "\n",
    "# Create a Spark session\n",
    "spark = SparkSession.builder.appName(\"Random Forest Classifier\").getOrCreate()\n",
    "\n",
    "# Load the dataset\n",
    "data = spark.read.csv(r\"C:\\Users\\asus\\Downloads\\Ecommerce_Customers.csv\", header=True, inferSchema=True)\n",
    "\n",
    "# Create a binary label column ('Churn') based on 'Yearly Amount Spent'\n",
    "data = data.withColumn(\"Churn\", when(data[\"Yearly Amount Spent\"] < 500, 1).otherwise(0))\n",
    "\n",
    "# Assemble features\n",
    "assembler = VectorAssembler(\n",
    "    inputCols=['Avg Session Length', 'Time on App', 'Time on Website', 'Length of Membership'],\n",
    "    outputCol='features'\n",
    ")\n",
    "\n",
    "# Prepare the features and label (target column for classification)\n",
    "final_data = assembler.transform(data).select('features', 'Churn')\n",
    "\n",
    "# Split the data into training and test sets\n",
    "train_data, test_data = final_data.randomSplit([0.7, 0.3])\n",
    "\n",
    "# Initialize Random Forest Classifier model\n",
    "rf = RandomForestClassifier(labelCol='Churn', featuresCol='features')\n",
    "\n",
    "# Fit the model\n",
    "rf_model = rf.fit(train_data)\n",
    "\n",
    "# Make predictions\n",
    "pred_data = rf_model.transform(test_data)\n",
    "\n",
    "# Evaluate the accuracy\n",
    "evaluator = MulticlassClassificationEvaluator(labelCol='Churn', predictionCol='prediction', metricName='accuracy')\n",
    "accuracy = evaluator.evaluate(pred_data)\n",
    "print(\"Random Forest Model Accuracy:\", accuracy)\n",
    "\n",
    "# To see predictions\n",
    "pred_data.select(\"features\", \"Churn\", \"prediction\").show(5)\n",
    "\n",
    "# Stop Spark session\n",
    "spark.stop()\n"
   ]
  },
  {
   "cell_type": "code",
   "execution_count": null,
   "metadata": {},
   "outputs": [],
   "source": []
  },
  {
   "cell_type": "code",
   "execution_count": null,
   "metadata": {},
   "outputs": [],
   "source": []
  }
 ],
 "metadata": {
  "kernelspec": {
   "display_name": "Python 3 (ipykernel)",
   "language": "python",
   "name": "python3"
  },
  "language_info": {
   "codemirror_mode": {
    "name": "ipython",
    "version": 3
   },
   "file_extension": ".py",
   "mimetype": "text/x-python",
   "name": "python",
   "nbconvert_exporter": "python",
   "pygments_lexer": "ipython3",
   "version": "3.11.7"
  }
 },
 "nbformat": 4,
 "nbformat_minor": 4
}
